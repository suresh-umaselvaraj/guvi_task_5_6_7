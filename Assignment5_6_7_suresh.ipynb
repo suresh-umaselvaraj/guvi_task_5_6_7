{
 "cells": [
  {
   "cell_type": "code",
   "execution_count": 1,
   "metadata": {},
   "outputs": [],
   "source": [
    "import pandas as pd\n",
    "import matplotlib.pyplot as plt\n",
    "import numpy as np\n",
    "from sklearn import linear_model"
   ]
  },
  {
   "cell_type": "markdown",
   "metadata": {},
   "source": [
    "# Assignment5\n"
   ]
  },
  {
   "cell_type": "markdown",
   "metadata": {},
   "source": [
    "## Ground Cricket Chirps\n",
    "\n",
    "In _The Song of Insects_ (1948) by George W. Pierce, Pierce mechanically measured the frequency (the number of wing vibrations per second) of chirps (or pulses of sound) made by a striped ground cricket, at various ground temperatures.  Since crickets are ectotherms (cold-blooded), the rate of their physiological processes and their overall metabolism are influenced by temperature.  Consequently, there is reason to believe that temperature would have a profound effect on aspects of their behavior, such as chirp frequency.\n",
    "\n",
    "In general, it was found that crickets did not sing at temperatures colder than 60º F. or warmer than 100º F."
   ]
  },
  {
   "cell_type": "code",
   "execution_count": 2,
   "metadata": {},
   "outputs": [],
   "source": [
    "ground_cricket_data = {\"Chirps/Second\": [20.0, 16.0, 19.8, 18.4, 17.1, 15.5, 14.7,\n",
    "                                         15.7, 15.4, 16.3, 15.0, 17.2, 16.0, 17.0,\n",
    "                                         14.4],\n",
    "                       \"Ground Temperature\": [88.6, 71.6, 93.3, 84.3, 80.6, 75.2, 69.7,\n",
    "                                              71.6, 69.4, 83.3, 79.6, 82.6, 80.6, 83.5,\n",
    "                                              76.3]}\n",
    "df = pd.DataFrame(ground_cricket_data)"
   ]
  },
  {
   "cell_type": "markdown",
   "metadata": {},
   "source": [
    "### Tasks\n",
    "\n",
    "1. Find the linear regression equation for this data.\n",
    "2. Chart the original data and the equation on the chart.\n",
    "3. Find the equation's $R^2$ score (use the `.score` method) to determine whether the\n",
    "equation is a good fit for this data. (0.8 and greater is considered a strong correlation.)\n",
    "4. Extrapolate data:  If the ground temperature reached 95, then at what approximate rate would you expect the crickets to be chirping?\n",
    "5. Interpolate data:  With a listening device, you discovered that on a particular morning the crickets were chirping at a rate of 18 chirps per second.  What was the approximate ground temperature that morning? "
   ]
  },
  {
   "cell_type": "code",
   "execution_count": 8,
   "metadata": {},
   "outputs": [
    {
     "data": {
      "text/plain": [
       "LinearRegression()"
      ]
     },
     "execution_count": 8,
     "metadata": {},
     "output_type": "execute_result"
    }
   ],
   "source": [
    "regr_gc = linear_model.LinearRegression()\n",
    "ground_temp = df[['Ground Temperature']]\n",
    "chirps_sec = df['Chirps/Second']\n",
    "regr_gc.fit(ground_temp, chirps_sec)"
   ]
  },
  {
   "cell_type": "code",
   "execution_count": 9,
   "metadata": {},
   "outputs": [],
   "source": [
    "#1"
   ]
  },
  {
   "cell_type": "code",
   "execution_count": 10,
   "metadata": {},
   "outputs": [
    {
     "name": "stdout",
     "output_type": "stream",
     "text": [
      "Linear Regression Equation: y = 0.2030 * x + 0.4593\n"
     ]
    }
   ],
   "source": [
    "print('Linear Regression Equation: y = {:.4f} * x + {:.4f}'\n",
    "      .format(regr_gc.coef_[0], regr_gc.intercept_))"
   ]
  },
  {
   "cell_type": "code",
   "execution_count": null,
   "metadata": {},
   "outputs": [],
   "source": [
    "#2"
   ]
  },
  {
   "cell_type": "code",
   "execution_count": 11,
   "metadata": {},
   "outputs": [
    {
     "data": {
      "image/png": "[encoded data removed]",
      "text/plain": [
       "<Figure size 432x288 with 1 Axes>"
      ]
     },
     "metadata": {
      "needs_background": "light"
     },
     "output_type": "display_data"
    }
   ],
   "source": [
    "plt.scatter(ground_temp, chirps_sec, color='m')\n",
    "plt.plot(ground_temp, regr_gc.predict(ground_temp))\n",
    "plt.title('Ground Cricket Chirps/Sec by Ground Temperature')\n",
    "plt.xlabel('Ground Temp (˚F)')\n",
    "plt.ylabel('Chirps/Sec')\n",
    "plt.show()"
   ]
  },
  {
   "cell_type": "code",
   "execution_count": 12,
   "metadata": {},
   "outputs": [],
   "source": [
    "#3"
   ]
  },
  {
   "cell_type": "code",
   "execution_count": 19,
   "metadata": {},
   "outputs": [
    {
     "name": "stdout",
     "output_type": "stream",
     "text": [
      "R^2 score for this equation: 0.6923\n"
     ]
    }
   ],
   "source": [
    "print('R^2 score for this equation: {:.4f}'\n",
    "      .format(regr_gc.score(ground_temp, chirps_sec)))"
   ]
  },
  {
   "cell_type": "code",
   "execution_count": 17,
   "metadata": {},
   "outputs": [],
   "source": [
    "#4"
   ]
  },
  {
   "cell_type": "code",
   "execution_count": 26,
   "metadata": {},
   "outputs": [],
   "source": [
    "#5"
   ]
  },
  {
   "cell_type": "code",
   "execution_count": 24,
   "metadata": {},
   "outputs": [],
   "source": [
    "def chirps_to_temp(y):\n",
    "    ret = (y - regr_gc.intercept_) / regr_gc.coef_[0]\n",
    "    print('With an observation of {} chirps/sec, '\n",
    "          'we expect a ground temp of {:.2f}˚F'.format(y, ret))"
   ]
  },
  {
   "cell_type": "code",
   "execution_count": 25,
   "metadata": {},
   "outputs": [
    {
     "name": "stdout",
     "output_type": "stream",
     "text": [
      "With an observation of 18 chirps/sec, we expect a ground temp of 86.41˚F\n"
     ]
    }
   ],
   "source": [
    "chirps_to_temp(18)"
   ]
  },
  {
   "cell_type": "markdown",
   "metadata": {},
   "source": [
    "# Assignment6"
   ]
  },
  {
   "cell_type": "markdown",
   "metadata": {},
   "source": [
    "## Brain vs. Body Weight\n",
    "\n",
    "In the file `brain_body.txt`, the average brain and body weight for a number of mammal species are recorded. Load this data into a Pandas data frame.\n",
    "\n",
    "### Tasks\n",
    "\n",
    "1. Find the linear regression equation for this data for brain weight to body weight.\n",
    "2. Chart the original data and the equation on the chart.\n",
    "3. Find the equation's $R^2$ score (use the `.score` method) to determine whether the\n",
    "equation is a good fit for this data. (0.8 and greater is considered a strong correlation.)"
   ]
  },
  {
   "cell_type": "code",
   "execution_count": 27,
   "metadata": {},
   "outputs": [],
   "source": [
    "df = pd.read_fwf(\"brain_body.txt\")"
   ]
  },
  {
   "cell_type": "code",
   "execution_count": 29,
   "metadata": {},
   "outputs": [
    {
     "data": {
      "text/plain": [
       "LinearRegression()"
      ]
     },
     "execution_count": 29,
     "metadata": {},
     "output_type": "execute_result"
    }
   ],
   "source": [
    "regr_bb = linear_model.LinearRegression()\n",
    "body = df[['Body']]\n",
    "brain = df['Brain']\n",
    "regr_bb.fit(body, brain)"
   ]
  },
  {
   "cell_type": "code",
   "execution_count": 30,
   "metadata": {},
   "outputs": [
    {
     "name": "stdout",
     "output_type": "stream",
     "text": [
      "Linear Regression Equation: y = 0.9029 * x + -56.8555\n"
     ]
    }
   ],
   "source": [
    "print('Linear Regression Equation: y = {:.4f} * x + {:.4f}'\n",
    "      .format(regr_bb.coef_[0], regr_bb.intercept_))"
   ]
  },
  {
   "cell_type": "code",
   "execution_count": 31,
   "metadata": {},
   "outputs": [
    {
     "data": {
      "image/png": "[encoded data removed]",
      "text/plain": [
       "<Figure size 432x288 with 1 Axes>"
      ]
     },
     "metadata": {
      "needs_background": "light"
     },
     "output_type": "display_data"
    }
   ],
   "source": [
    "plt.scatter(body, brain, color='m')\n",
    "plt.plot(body, regr_bb.predict(body))\n",
    "plt.title('Brain Weight by Body Weight')\n",
    "plt.xlabel('Body Weight')\n",
    "plt.ylabel('Brain Weight')\n",
    "plt.show()"
   ]
  },
  {
   "cell_type": "code",
   "execution_count": 32,
   "metadata": {},
   "outputs": [
    {
     "name": "stdout",
     "output_type": "stream",
     "text": [
      "R^2 score for this equation: 0.8727\n"
     ]
    }
   ],
   "source": [
    "print('R^2 score for this equation: {:.4f}'\n",
    "      .format(regr_bb.score(body, brain)))"
   ]
  },
  {
   "cell_type": "markdown",
   "metadata": {},
   "source": [
    "# Assignment7"
   ]
  },
  {
   "cell_type": "markdown",
   "metadata": {},
   "source": [
    "## Salary Discrimination\n",
    "\n",
    "The file `salary.txt` contains data for 52 tenure-track professors at a small Midwestern college. This data was used in legal proceedings in the 1980s about discrimination against women in salary.\n",
    "\n",
    "The data in the file, by column:\n",
    "\n",
    "1. Sex. 1 for female, 0 for male.\n",
    "2. Rank. 1 for assistant professor, 2 for associate professor, 3 for full professor.\n",
    "3. Year. Number of years in current rank.\n",
    "4. Degree. Highest degree. 1 for doctorate, 0 for master's.\n",
    "5. YSdeg. Years since highest degree was earned.\n",
    "6. Salary. Salary/year in dollars.\n",
    "\n",
    "### Tasks\n",
    "\n",
    "1. Find the linear regression equation for this data using columns 1-5 to column 6.\n",
    "2. Find the selection of columns with the best $R^2$ score.\n",
    "3. Report whether sex is a factor in salary."
   ]
  },
  {
   "cell_type": "code",
   "execution_count": 33,
   "metadata": {},
   "outputs": [],
   "source": [
    "df = pd.read_fwf(\"salary.txt\", header=None, \n",
    "                 names=[\"Sex\", \"Rank\", \"Year\", \"Degree\", \"YSdeg\", \"Salary\"])"
   ]
  },
  {
   "cell_type": "code",
   "execution_count": 34,
   "metadata": {},
   "outputs": [],
   "source": [
    "salary_discrim_cols = ['Sex', 'Rank', 'Year', 'Degree', 'YSdeg']"
   ]
  },
  {
   "cell_type": "code",
   "execution_count": 35,
   "metadata": {},
   "outputs": [],
   "source": [
    "def lin_reg_eq_print(salary_discrim_cols, df):\n",
    "    input_cols = df[salary_discrim_cols]\n",
    "    salary = df['Salary']\n",
    "    regr_sd = linear_model.LinearRegression()\n",
    "    regr_sd.fit(input_cols, salary)\n",
    "    print('The equation for columns {} with respect to Salary:\\n'\n",
    "          '{} + {}'.format(salary_discrim_cols, regr_sd.coef_, regr_sd.intercept_))"
   ]
  },
  {
   "cell_type": "code",
   "execution_count": 37,
   "metadata": {},
   "outputs": [
    {
     "name": "stdout",
     "output_type": "stream",
     "text": [
      "The equation for columns ['Sex', 'Rank', 'Year', 'Degree', 'YSdeg'] with respect to Salary:\n",
      "[ 1241.7924996   5586.18144952   482.85976783 -1331.64406341\n",
      "  -128.79057354] + 11410.14654725559\n"
     ]
    }
   ],
   "source": [
    "lin_reg_eq_print(salary_discrim_cols, df)"
   ]
  },
  {
   "cell_type": "code",
   "execution_count": 38,
   "metadata": {},
   "outputs": [],
   "source": [
    "def lin_reg_wrt_focus(salary_discrim_cols, df, focus='Salary'):\n",
    "    input_cols = df[salary_discrim_cols]\n",
    "    focus_output = df[focus]\n",
    "    regr_sd = linear_model.LinearRegression()\n",
    "    regr_sd.fit(input_cols, focus_output)\n",
    "    return regr_sd.score(input_cols, focus_output)"
   ]
  },
  {
   "cell_type": "code",
   "execution_count": 39,
   "metadata": {},
   "outputs": [
    {
     "name": "stdout",
     "output_type": "stream",
     "text": [
      "R^2 score for equation using all columns: 0.8547180674410969\n"
     ]
    }
   ],
   "source": [
    "print('R^2 score for equation using all columns: {}'\n",
    "      .format(lin_reg_wrt_focus(salary_discrim_cols, df)))"
   ]
  },
  {
   "cell_type": "code",
   "execution_count": 50,
   "metadata": {},
   "outputs": [],
   "source": [
    "import itertools as it\n",
    "import matplotlib.pyplot as plt\n",
    "import numpy as np\n",
    "import pandas as pd\n",
    "from sklearn import linear_model\n",
    "from copy import deepcopy\n",
    "%matplotlib inline"
   ]
  },
  {
   "cell_type": "code",
   "execution_count": 46,
   "metadata": {},
   "outputs": [],
   "source": [
    " def get_combos(cols):\n",
    "    return [it.combinations(cols, n + 1) for n in range(len(cols))]"
   ]
  },
  {
   "cell_type": "code",
   "execution_count": 56,
   "metadata": {},
   "outputs": [],
   "source": [
    "combos = get_combos(salary_discrim_cols)"
   ]
  },
  {
   "cell_type": "code",
   "execution_count": 57,
   "metadata": {},
   "outputs": [],
   "source": [
    "def all_combo_scores(combos, df, focus='Salary'):\n",
    "    combo_scores = {}\n",
    "    for m in range(len(list(combos))):\n",
    "        for n in list(combos[m]):\n",
    "            combo_scores[lin_reg_wrt_focus(list(n), df, focus)] = n\n",
    "    return combo_scores"
   ]
  },
  {
   "cell_type": "code",
   "execution_count": 59,
   "metadata": {},
   "outputs": [
    {
     "data": {
      "text/plain": [
       "[(0.8547180674410969, ('Sex', 'Rank', 'Year', 'Degree', 'YSdeg')),\n",
       " (0.8490366192262851, ('Sex', 'Rank', 'Year', 'YSdeg')),\n",
       " (0.8485077204335426, ('Rank', 'Year', 'Degree', 'YSdeg')),\n",
       " (0.8456725764485596, ('Rank', 'Year', 'YSdeg')),\n",
       " (0.845547641297936, ('Sex', 'Rank', 'Year', 'Degree')),\n",
       " (0.8454319861987166, ('Sex', 'Rank', 'Year')),\n",
       " (0.8437395200874137, ('Rank', 'Year', 'Degree')),\n",
       " (0.8436480933264597, ('Rank', 'Year')),\n",
       " (0.7671813414350668, ('Sex', 'Rank', 'Degree', 'YSdeg')),\n",
       " (0.7666122610227071, ('Sex', 'Rank', 'YSdeg')),\n",
       " (0.7625149185326454, ('Rank', 'Degree', 'YSdeg')),\n",
       " (0.7623948189698249, ('Rank', 'YSdeg')),\n",
       " (0.7583144768153613, ('Sex', 'Rank', 'Degree')),\n",
       " (0.7557961688386643, ('Rank', 'Degree')),\n",
       " (0.7554917749443394, ('Sex', 'Rank')),\n",
       " (0.7525360539274633, ('Rank',)),\n",
       " (0.6311597502907436, ('Sex', 'Year', 'Degree', 'YSdeg')),\n",
       " (0.6236261611533505, ('Year', 'Degree', 'YSdeg')),\n",
       " (0.5832708257660315, ('Sex', 'Degree', 'YSdeg')),\n",
       " (0.5808063918180406, ('Sex', 'Year', 'YSdeg')),\n",
       " (0.5782019226431887, ('Year', 'YSdeg')),\n",
       " (0.5409662288237875, ('Degree', 'YSdeg')),\n",
       " (0.4930479271966782, ('Sex', 'YSdeg')),\n",
       " (0.49207944757472966, ('Sex', 'Year', 'Degree')),\n",
       " (0.4919014149016441, ('Year', 'Degree')),\n",
       " (0.4911360941886388, ('Sex', 'Year')),\n",
       " (0.49093702676921624, ('Year',)),\n",
       " (0.45542813458360276, ('YSdeg',)),\n",
       " (0.06643739842018881, ('Sex', 'Degree')),\n",
       " (0.06389892583288004, ('Sex',)),\n",
       " (0.004861680984748373, ('Degree',))]"
      ]
     },
     "execution_count": 59,
     "metadata": {},
     "output_type": "execute_result"
    }
   ],
   "source": [
    "combo_scores = all_combo_scores(combos, df)\n",
    "sorted(combo_scores.items(), key=lambda c: c[0], reverse=True)"
   ]
  },
  {
   "cell_type": "code",
   "execution_count": 61,
   "metadata": {},
   "outputs": [],
   "source": [
    "\n",
    "#The selection with the best  score is: Sex, Rank, Year, Degree, YSdeg: 0.85471806744109691 (as seen above)\n",
    "\n",
    "#However, although including all of the columns produces the highest  score, there are two dominant factors: Year and Rank. Just these two factors taken together have a score of 0.84364809332645985.\n",
    "    \n"
   ]
  },
  {
   "cell_type": "code",
   "execution_count": 63,
   "metadata": {},
   "outputs": [
    {
     "name": "stdout",
     "output_type": "stream",
     "text": [
      "Num men: 38\n",
      "Num women: 14\n"
     ]
    }
   ],
   "source": [
    "num_by_sex = df.Sex.value_counts()\n",
    "print('Num men: {}\\nNum women: {}'.format(num_by_sex[0], num_by_sex[1]))"
   ]
  },
  {
   "cell_type": "code",
   "execution_count": 66,
   "metadata": {},
   "outputs": [
    {
     "data": {
      "image/png": "[encoded data removed]",
      "text/plain": [
       "<Figure size 432x288 with 1 Axes>"
      ]
     },
     "metadata": {
      "needs_background": "light"
     },
     "output_type": "display_data"
    }
   ],
   "source": [
    "df.pivot_table(index=df.index, columns='Sex', values='Salary') \\\n",
    "    .plot(kind='hist', alpha=0.7, stacked=True, bins=20, title='Salary by Sex')\n",
    "plt.xlabel('Dollars')\n",
    "plt.ylabel('Faculty')\n",
    "plt.show()"
   ]
  },
  {
   "cell_type": "code",
   "execution_count": 68,
   "metadata": {},
   "outputs": [
    {
     "data": {
      "image/png": "[encoded data removed]",
      "text/plain": [
       "<Figure size 432x288 with 1 Axes>"
      ]
     },
     "metadata": {
      "needs_background": "light"
     },
     "output_type": "display_data"
    }
   ],
   "source": [
    "df.pivot_table(index=df.index, columns='Sex', values='Rank') \\\n",
    "    .plot(kind='hist', alpha=0.7, stacked=True, title='Rank by Sex')\n",
    "plt.xticks([1, 2, 3])\n",
    "plt.xlabel('Rank')\n",
    "plt.ylabel('Faculty')\n",
    "plt.show()"
   ]
  },
  {
   "cell_type": "code",
   "execution_count": 69,
   "metadata": {},
   "outputs": [
    {
     "data": {
      "image/png": "[encoded data removed]",
      "text/plain": [
       "<Figure size 432x288 with 1 Axes>"
      ]
     },
     "metadata": {
      "needs_background": "light"
     },
     "output_type": "display_data"
    }
   ],
   "source": [
    "df.pivot_table(index=df.index, columns='Sex', values='Year') \\\n",
    "    .plot(kind='hist', alpha=0.7, stacked=True, bins=12,\n",
    "          title='Years in Rank by Sex')\n",
    "plt.xlabel('Years')\n",
    "plt.ylabel('Faculty')\n",
    "plt.show()"
   ]
  },
  {
   "cell_type": "code",
   "execution_count": 70,
   "metadata": {},
   "outputs": [],
   "source": [
    "df_sd_10 = df[df['Year'] <= 10]"
   ]
  },
  {
   "cell_type": "code",
   "execution_count": 71,
   "metadata": {},
   "outputs": [
    {
     "data": {
      "text/plain": [
       "[(0.7968248819660304, ('Sex', 'Rank', 'Year', 'Degree', 'YSdeg')),\n",
       " (0.7872092866034842, ('Sex', 'Rank', 'Year', 'YSdeg')),\n",
       " (0.7857914167129874, ('Rank', 'Year', 'Degree', 'YSdeg')),\n",
       " (0.7812953737007232, ('Rank', 'Year', 'YSdeg')),\n",
       " (0.7811304025138202, ('Sex', 'Rank', 'Year', 'Degree')),\n",
       " (0.7809344717080977, ('Sex', 'Rank', 'Year')),\n",
       " (0.7783076155381674, ('Rank', 'Year', 'Degree')),\n",
       " (0.778125545829645, ('Rank', 'Year')),\n",
       " (0.7267866959953192, ('Sex', 'Rank', 'Degree', 'YSdeg')),\n",
       " (0.7266289950954575, ('Sex', 'Rank', 'Degree')),\n",
       " (0.7263171650507368, ('Rank', 'Degree', 'YSdeg')),\n",
       " (0.7262952984826756, ('Rank', 'Degree')),\n",
       " (0.7237917566538923, ('Sex', 'Rank', 'YSdeg')),\n",
       " (0.7237599305119999, ('Rank', 'YSdeg')),\n",
       " (0.7224004990910746, ('Sex', 'Rank')),\n",
       " (0.7221603677648399, ('Rank',)),\n",
       " (0.5211388967522836, ('Sex', 'Year', 'Degree', 'YSdeg')),\n",
       " (0.5106317178170396, ('Year', 'Degree', 'YSdeg')),\n",
       " (0.47582422204482044, ('Sex', 'Degree', 'YSdeg')),\n",
       " (0.46515893607776615, ('Sex', 'Year', 'YSdeg')),\n",
       " (0.46069130390981783, ('Year', 'YSdeg')),\n",
       " (0.4448739733320236, ('Degree', 'YSdeg')),\n",
       " (0.4042796870122093, ('Sex', 'YSdeg')),\n",
       " (0.3832919418621781, ('YSdeg',)),\n",
       " (0.3261084635012448, ('Sex', 'Year', 'Degree')),\n",
       " (0.325988256704955, ('Sex', 'Year')),\n",
       " (0.32547258856854433, ('Year', 'Degree')),\n",
       " (0.32534791979498534, ('Year',)),\n",
       " (0.019252695844517165, ('Sex', 'Degree')),\n",
       " (0.01327225187005543, ('Degree',)),\n",
       " (0.006877700561349731, ('Sex',))]"
      ]
     },
     "execution_count": 71,
     "metadata": {},
     "output_type": "execute_result"
    }
   ],
   "source": [
    "combos_10 = get_combos(salary_discrim_cols)\n",
    "combo_10_scores = all_combo_scores(combos_10, df_sd_10)\n",
    "sorted(combo_10_scores.items(), key=lambda c: c[0], reverse=True)"
   ]
  },
  {
   "cell_type": "code",
   "execution_count": 72,
   "metadata": {},
   "outputs": [],
   "source": [
    "#Sex has no direct influence on Salary: score of 0.0068777005613497311."
   ]
  },
  {
   "cell_type": "code",
   "execution_count": null,
   "metadata": {},
   "outputs": [],
   "source": []
  }
 ],
 "metadata": {
  "kernelspec": {
   "display_name": "Python 3",
   "language": "python",
   "name": "python3"
  },
  "language_info": {
   "codemirror_mode": {
    "name": "ipython",
    "version": 3
   },
   "file_extension": ".py",
   "mimetype": "text/x-python",
   "name": "python",
   "nbconvert_exporter": "python",
   "pygments_lexer": "ipython3",
   "version": "3.6.13"
  }
 },
 "nbformat": 4,
 "nbformat_minor": 1
}
